{
 "cells": [
  {
   "cell_type": "code",
   "execution_count": 1,
   "metadata": {},
   "outputs": [
    {
     "name": "stderr",
     "output_type": "stream",
     "text": [
      "/home/akshaydv/anaconda3/envs/tensorflow/lib/python3.5/site-packages/h5py/__init__.py:36: FutureWarning: Conversion of the second argument of issubdtype from `float` to `np.floating` is deprecated. In future, it will be treated as `np.float64 == np.dtype(float).type`.\n",
      "  from ._conv import register_converters as _register_converters\n",
      "Using TensorFlow backend.\n"
     ]
    }
   ],
   "source": [
    "import numpy as np\n",
    "from keras.models import Sequential\n",
    "from keras.layers import Dense, Dropout, Flatten, MaxPooling2D, Conv2D \n",
    "from keras.utils import np_utils\n",
    "import pandas as pd\n",
    "from keras import backend as K \n",
    "K.set_image_dim_ordering('th')"
   ]
  },
  {
   "cell_type": "code",
   "execution_count": 2,
   "metadata": {},
   "outputs": [],
   "source": [
    "seed = 7\n",
    "np.random.seed(seed)"
   ]
  },
  {
   "cell_type": "code",
   "execution_count": 3,
   "metadata": {},
   "outputs": [],
   "source": [
    "dataset = pd.read_csv('train.csv')\n",
    "X = dataset.iloc[:, 1:].values.astype('float32')\n",
    "y = dataset.iloc[:, 0:1].values"
   ]
  },
  {
   "cell_type": "code",
   "execution_count": 4,
   "metadata": {},
   "outputs": [],
   "source": [
    "from sklearn.model_selection import train_test_split\n",
    "X_train, X_test, y_train, y_test = train_test_split(X, y, test_size = 0.2, random_state = 0)"
   ]
  },
  {
   "cell_type": "code",
   "execution_count": 5,
   "metadata": {},
   "outputs": [],
   "source": [
    "X_train = X_train / 255\n",
    "X_test = X_test / 255\n",
    "X_train = X_train.reshape(X_train.shape[0], 1, 28, 28).astype('float32')\n",
    "X_test = X_test.reshape(X_test.shape[0], 1, 28, 28).astype('float32')\n",
    "y_train = np_utils.to_categorical(y_train)\n",
    "y_test = np_utils.to_categorical(y_test)\n",
    "num_classes = y_test.shape[1]"
   ]
  },
  {
   "cell_type": "code",
   "execution_count": 6,
   "metadata": {},
   "outputs": [],
   "source": [
    "def CNN_Model():\n",
    "    model = Sequential()\n",
    "    model.add(Conv2D(30, (6, 6), input_shape=(1,28, 28), activation='relu'))\n",
    "    model.add(MaxPooling2D(pool_size=(2, 2)))\n",
    "    model.add(Conv2D(15, (3, 3), activation='relu'))\n",
    "    model.add(MaxPooling2D(pool_size=(2, 2)))\n",
    "    model.add(Dropout(0.2))\n",
    "    model.add(Flatten())\n",
    "    model.add(Dense(128, activation='relu'))\n",
    "    model.add(Dropout(0.2))\n",
    "    model.add(Dense(64, activation='relu'))\n",
    "    model.add(Dropout(0.2))\n",
    "    model.add(Dense(50, activation='relu'))\n",
    "    model.add(Dropout(0.1))\n",
    "    model.add(Dense(num_classes, activation='softmax'))\n",
    "    model.compile(loss='categorical_crossentropy', optimizer='adam', metrics=['accuracy'])\n",
    "    return model"
   ]
  },
  {
   "cell_type": "code",
   "execution_count": 7,
   "metadata": {},
   "outputs": [
    {
     "name": "stdout",
     "output_type": "stream",
     "text": [
      "Train on 33600 samples, validate on 8400 samples\n",
      "Epoch 1/25\n",
      "33600/33600 [==============================] - 17s 513us/step - loss: 1.1635 - acc: 0.5998 - val_loss: 0.2411 - val_acc: 0.9313\n",
      "Epoch 2/25\n",
      "33600/33600 [==============================] - 17s 507us/step - loss: 0.3248 - acc: 0.8999 - val_loss: 0.1396 - val_acc: 0.9586\n",
      "Epoch 3/25\n",
      "33600/33600 [==============================] - 17s 503us/step - loss: 0.2114 - acc: 0.9354 - val_loss: 0.1047 - val_acc: 0.9681\n",
      "Epoch 4/25\n",
      "33600/33600 [==============================] - 17s 509us/step - loss: 0.1728 - acc: 0.9495 - val_loss: 0.0891 - val_acc: 0.9720\n",
      "Epoch 5/25\n",
      "33600/33600 [==============================] - 18s 547us/step - loss: 0.1463 - acc: 0.9561 - val_loss: 0.0804 - val_acc: 0.9762\n",
      "Epoch 6/25\n",
      "33600/33600 [==============================] - 18s 523us/step - loss: 0.1265 - acc: 0.9615 - val_loss: 0.0735 - val_acc: 0.9787\n",
      "Epoch 7/25\n",
      "33600/33600 [==============================] - 17s 521us/step - loss: 0.1147 - acc: 0.9665 - val_loss: 0.0672 - val_acc: 0.9805\n",
      "Epoch 8/25\n",
      "33600/33600 [==============================] - 17s 516us/step - loss: 0.0974 - acc: 0.9715 - val_loss: 0.0594 - val_acc: 0.9815\n",
      "Epoch 9/25\n",
      "33600/33600 [==============================] - 17s 521us/step - loss: 0.0916 - acc: 0.9732 - val_loss: 0.0586 - val_acc: 0.9824\n",
      "Epoch 10/25\n",
      "33600/33600 [==============================] - 18s 524us/step - loss: 0.0846 - acc: 0.9753 - val_loss: 0.0551 - val_acc: 0.9826\n",
      "Epoch 11/25\n",
      "33600/33600 [==============================] - 18s 523us/step - loss: 0.0794 - acc: 0.9756 - val_loss: 0.0494 - val_acc: 0.9840\n",
      "Epoch 12/25\n",
      "33600/33600 [==============================] - 17s 509us/step - loss: 0.0751 - acc: 0.9777 - val_loss: 0.0468 - val_acc: 0.9854\n",
      "Epoch 13/25\n",
      "33600/33600 [==============================] - 17s 508us/step - loss: 0.0734 - acc: 0.9782 - val_loss: 0.0505 - val_acc: 0.9852\n",
      "Epoch 14/25\n",
      "33600/33600 [==============================] - 17s 512us/step - loss: 0.0692 - acc: 0.9799 - val_loss: 0.0447 - val_acc: 0.9863\n",
      "Epoch 15/25\n",
      "33600/33600 [==============================] - 17s 508us/step - loss: 0.0654 - acc: 0.9807 - val_loss: 0.0404 - val_acc: 0.9874\n",
      "Epoch 16/25\n",
      "33600/33600 [==============================] - 17s 508us/step - loss: 0.0645 - acc: 0.9815 - val_loss: 0.0442 - val_acc: 0.9875\n",
      "Epoch 17/25\n",
      "33600/33600 [==============================] - 17s 513us/step - loss: 0.0564 - acc: 0.9826 - val_loss: 0.0409 - val_acc: 0.9880\n",
      "Epoch 18/25\n",
      "33600/33600 [==============================] - 17s 511us/step - loss: 0.0579 - acc: 0.9833 - val_loss: 0.0443 - val_acc: 0.9876\n",
      "Epoch 19/25\n",
      "33600/33600 [==============================] - 17s 514us/step - loss: 0.0555 - acc: 0.9841 - val_loss: 0.0426 - val_acc: 0.9871\n",
      "Epoch 20/25\n",
      "33600/33600 [==============================] - 17s 518us/step - loss: 0.0549 - acc: 0.9840 - val_loss: 0.0389 - val_acc: 0.9894\n",
      "Epoch 21/25\n",
      "33600/33600 [==============================] - 17s 513us/step - loss: 0.0521 - acc: 0.9849 - val_loss: 0.0397 - val_acc: 0.9892\n",
      "Epoch 22/25\n",
      "33600/33600 [==============================] - 17s 515us/step - loss: 0.0461 - acc: 0.9859 - val_loss: 0.0416 - val_acc: 0.9877\n",
      "Epoch 23/25\n",
      "33600/33600 [==============================] - 17s 514us/step - loss: 0.0483 - acc: 0.9860 - val_loss: 0.0379 - val_acc: 0.9893\n",
      "Epoch 24/25\n",
      "33600/33600 [==============================] - 17s 510us/step - loss: 0.0453 - acc: 0.9868 - val_loss: 0.0357 - val_acc: 0.9889\n",
      "Epoch 25/25\n",
      "33600/33600 [==============================] - 18s 521us/step - loss: 0.0430 - acc: 0.9875 - val_loss: 0.0391 - val_acc: 0.9877\n"
     ]
    }
   ],
   "source": [
    "model = CNN_Model()\n",
    "model.fit(X_train, y_train, validation_data=(X_test, y_test), epochs=25, batch_size=350)\n",
    "scores = model.evaluate(X_test, y_test, verbose=0)"
   ]
  },
  {
   "cell_type": "code",
   "execution_count": 8,
   "metadata": {},
   "outputs": [],
   "source": [
    "test_dataset = pd.read_csv('test.csv')\n",
    "test_set = test_dataset.iloc[:,:].values.astype('float32')\n",
    "test_set = test_set/255\n",
    "test_set = test_set.reshape(test_set.shape[0], 1, 28, 28).astype('float32')\n",
    "result = model.predict(test_set)"
   ]
  },
  {
   "cell_type": "code",
   "execution_count": 9,
   "metadata": {},
   "outputs": [],
   "source": [
    "import csv\n",
    "with open('result.csv', 'w') as csvfile:\n",
    "    spamwriter = csv.writer(csvfile, delimiter=',',\n",
    "                            quotechar='|', quoting=csv.QUOTE_MINIMAL)\n",
    "    spamwriter.writerow(['ImageId'] + ['Label'])\n",
    "    for i in range(len(result)):\n",
    "        spamwriter.writerow([str(i+1)] + [result[i].argmax(axis=0)])                   "
   ]
  },
  {
   "cell_type": "code",
   "execution_count": null,
   "metadata": {},
   "outputs": [],
   "source": []
  }
 ],
 "metadata": {
  "kernelspec": {
   "display_name": "Python 3",
   "language": "python",
   "name": "python3"
  },
  "language_info": {
   "codemirror_mode": {
    "name": "ipython",
    "version": 3
   },
   "file_extension": ".py",
   "mimetype": "text/x-python",
   "name": "python",
   "nbconvert_exporter": "python",
   "pygments_lexer": "ipython3",
   "version": "3.5.5"
  }
 },
 "nbformat": 4,
 "nbformat_minor": 2
}
